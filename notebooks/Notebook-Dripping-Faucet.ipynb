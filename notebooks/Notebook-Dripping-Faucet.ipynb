{
 "cells": [
  {
   "cell_type": "markdown",
   "metadata": {},
   "source": [
    "## Simulación Paper Dripping Faucet\n",
    "\n",
    "#### Introducción\n",
    "La idea de este notebook es interpretar el paper [The Chaotic Dripping Faucet](https://nldlab.gatech.edu/w/images/f/f6/Royer_Caleb_PHYS6268_Royer_FinalPaper.pdf), explicando como un sistema de goteo dinámico se puede convertir en un sistema de goteo caótico. En este paper se intentara realizar también una solución al sistema de ecuaciones diferenciales que plantaron para resolver el problema.\n",
    "\n",
    "#### Explicación del Experimento\n",
    "El experimento consistió en en la creación de un espacio que consistía de un tanque de fluidos que tenia un regulador de flujo para que atraviese el contenido del tanque y poder simular un sistema de goteo, además se organiza un laser y un fotodiodo alineado perpendicularmente a la dirección de la caída de gotas para interceptarla, de esta manera se captura el tiempo entre la gotas.\n",
    "\n",
    "Esta configuración inicial paso por diferentes cambios debido a que se tomaban periodos incorrectos en la caída o habían muchos problemas mecánicos, al final se implemento una bomba de aire que fue usado para que el agua corriera a traves de un tubo flexible de 5mm de diámetro. La bomba disponía de un regulador de flujo integrado, esto permitía un ajuste directo del flujo. Pero no se indicaban las unidades de medición para la bomba por lo cual se realizo una regresión lineal para obtener una conversión de las unidades de bomba a unidades de SI. Este factor de conversión es $\\frac{mL}{s} = 0.004563FRU$ donde FRU es la velocidad del flujo.\n"
   ]
  },
  {
   "cell_type": "markdown",
   "metadata": {},
   "source": []
  }
 ],
 "metadata": {
  "kernelspec": {
   "display_name": "venv_dripping",
   "language": "python",
   "name": "python3"
  },
  "language_info": {
   "name": "python",
   "version": "3.12.4"
  }
 },
 "nbformat": 4,
 "nbformat_minor": 2
}
